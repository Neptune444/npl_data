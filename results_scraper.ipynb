{
 "cells": [
  {
   "cell_type": "code",
   "execution_count": 1,
   "id": "c030f50b-3833-4a55-afe2-fff6cf1c416d",
   "metadata": {},
   "outputs": [],
   "source": [
    "import pandas as pd\n",
    "from bs4 import BeautifulSoup\n",
    "import requests\n",
    "import lxml"
   ]
  },
  {
   "cell_type": "code",
   "execution_count": 149,
   "id": "d7b0b6c6-a478-47e8-b382-afdb80f85fa8",
   "metadata": {},
   "outputs": [],
   "source": [
    "url = 'https://www.thenpl.co.uk/match-info/results/2022-10?division_id=5198600'\n",
    "url2 = 'https://www.soccerstats.com/results.asp?league=england9&pmtype=bydate'"
   ]
  },
  {
   "cell_type": "code",
   "execution_count": 150,
   "id": "21ec0c86-a58d-405e-929b-d71297634b4d",
   "metadata": {},
   "outputs": [],
   "source": [
    "page = requests.get(url2)"
   ]
  },
  {
   "cell_type": "code",
   "execution_count": 151,
   "id": "25a5bb3c-25bb-4a12-bc59-362cad286113",
   "metadata": {},
   "outputs": [],
   "source": [
    "soup = BeautifulSoup(page.content, \"html.parser\")"
   ]
  },
  {
   "cell_type": "code",
   "execution_count": 83,
   "id": "a4cfa2d6-f12a-444e-be2c-226aa9cf4656",
   "metadata": {},
   "outputs": [],
   "source": [
    "teams_list = []\n",
    "for node in soup.findAll('span', {'class' : 'u-text-ellipsis u-block'}):\n",
    "    teams_list.append(''.join(node.findAll(text=True)))"
   ]
  },
  {
   "cell_type": "code",
   "execution_count": 84,
   "id": "590de479-a43a-40ec-8efe-e2edbc16f161",
   "metadata": {},
   "outputs": [],
   "source": [
    "teams_list = list(map(lambda x:x.strip(),teams_list))"
   ]
  },
  {
   "cell_type": "code",
   "execution_count": 30,
   "id": "30a8ac53-52e0-4bd7-8343-29f219d18221",
   "metadata": {},
   "outputs": [],
   "source": [
    "att_list = []\n",
    "for node in soup.findAll('span', {'class' : 'u-muted'}):\n",
    "    att_list.append(''.join(node.findAll(text=True)))"
   ]
  },
  {
   "cell_type": "code",
   "execution_count": 32,
   "id": "19f9a32f-6c3c-4bc1-9b98-857e0a580e58",
   "metadata": {},
   "outputs": [],
   "source": [
    "att_list = list(map(lambda x:x.strip(),att_list))"
   ]
  },
  {
   "cell_type": "code",
   "execution_count": 40,
   "id": "7fc47e36-a53d-4afb-89c4-f39b86123f52",
   "metadata": {},
   "outputs": [],
   "source": [
    "score_list = []\n",
    "for node in soup.findAll('div', {'class' : 'layout__item u-one-sixth u-text-center'}):\n",
    "    score_list.append(''.join(node.findAll(text=True)))"
   ]
  },
  {
   "cell_type": "code",
   "execution_count": 43,
   "id": "de83540d-9a59-497d-92da-a24ba3a85f4a",
   "metadata": {},
   "outputs": [],
   "source": [
    "score_list = list(map(lambda x:x.strip(),score_list))"
   ]
  },
  {
   "cell_type": "code",
   "execution_count": 77,
   "id": "5e863325-6460-42e0-8d21-6f53aad23856",
   "metadata": {},
   "outputs": [],
   "source": [
    "trimmed_scores = []\n",
    "for i in range(0,len(score_list)):\n",
    "    trimmed_scores.append((score_list[i][:5]))"
   ]
  },
  {
   "cell_type": "code",
   "execution_count": 97,
   "id": "7cb68f98-4587-4d7a-8695-4c4281b4ebd1",
   "metadata": {},
   "outputs": [],
   "source": [
    "teams_df = pd.DataFrame(teams_list, columns=['team'])"
   ]
  },
  {
   "cell_type": "code",
   "execution_count": 100,
   "id": "bf4f949a-216d-4afb-a56f-281b8ab4ef7c",
   "metadata": {},
   "outputs": [],
   "source": [
    "teams_df = pd.DataFrame(teams_df['team'].values.reshape(-1,2),columns=['home','away'])"
   ]
  },
  {
   "cell_type": "code",
   "execution_count": 128,
   "id": "08cc1582-d64e-4fc0-822f-052a01a0932c",
   "metadata": {},
   "outputs": [],
   "source": [
    "att_df = pd.DataFrame(att_list, columns=['attendance'])\n",
    "att_df = att_df[~att_df.attendance.str.contains(\"\\n\")]"
   ]
  },
  {
   "cell_type": "code",
   "execution_count": 129,
   "id": "809f884d-4896-4981-bdc9-ce5881cb468e",
   "metadata": {},
   "outputs": [],
   "source": [
    "att_df = att_df.attendance.str.extract('(\\d+)').rename(columns={0: \"attendance\"})"
   ]
  },
  {
   "cell_type": "code",
   "execution_count": 134,
   "id": "b54574ca-7f9c-4971-a12f-3ae7ebd587a1",
   "metadata": {},
   "outputs": [],
   "source": [
    "scores_df = pd.DataFrame(trimmed_scores, columns=['score'])"
   ]
  },
  {
   "cell_type": "code",
   "execution_count": 135,
   "id": "912e53b3-3e6f-48ef-a6c8-7f4320d700b7",
   "metadata": {},
   "outputs": [],
   "source": [
    "dfs = [teams_df, scores_df, att_df]"
   ]
  },
  {
   "cell_type": "code",
   "execution_count": 137,
   "id": "fdc3a551-7626-4d56-a980-f158f86d55a4",
   "metadata": {},
   "outputs": [],
   "source": [
    "final_df = pd.concat([teams_df, scores_df, att_df], axis=1)"
   ]
  },
  {
   "cell_type": "code",
   "execution_count": 138,
   "id": "169136c7-f239-4623-a721-c4bf6fcb861c",
   "metadata": {},
   "outputs": [
    {
     "data": {
      "text/html": [
       "<div>\n",
       "<style scoped>\n",
       "    .dataframe tbody tr th:only-of-type {\n",
       "        vertical-align: middle;\n",
       "    }\n",
       "\n",
       "    .dataframe tbody tr th {\n",
       "        vertical-align: top;\n",
       "    }\n",
       "\n",
       "    .dataframe thead th {\n",
       "        text-align: right;\n",
       "    }\n",
       "</style>\n",
       "<table border=\"1\" class=\"dataframe\">\n",
       "  <thead>\n",
       "    <tr style=\"text-align: right;\">\n",
       "      <th></th>\n",
       "      <th>home</th>\n",
       "      <th>away</th>\n",
       "      <th>score</th>\n",
       "      <th>attendance</th>\n",
       "    </tr>\n",
       "  </thead>\n",
       "  <tbody>\n",
       "    <tr>\n",
       "      <th>0</th>\n",
       "      <td>Ashton United</td>\n",
       "      <td>Stalybridge Celtic</td>\n",
       "      <td>2 - 1</td>\n",
       "      <td>510</td>\n",
       "    </tr>\n",
       "    <tr>\n",
       "      <th>1</th>\n",
       "      <td>Bamber Bridge</td>\n",
       "      <td>Nantwich Town</td>\n",
       "      <td>1 - 0</td>\n",
       "      <td>423</td>\n",
       "    </tr>\n",
       "    <tr>\n",
       "      <th>2</th>\n",
       "      <td>Belper Town</td>\n",
       "      <td>Guiseley</td>\n",
       "      <td>1 - 3</td>\n",
       "      <td>562</td>\n",
       "    </tr>\n",
       "    <tr>\n",
       "      <th>3</th>\n",
       "      <td>Gainsborough Trinity</td>\n",
       "      <td>Atherton Collieries</td>\n",
       "      <td>2 - 2</td>\n",
       "      <td>586</td>\n",
       "    </tr>\n",
       "    <tr>\n",
       "      <th>4</th>\n",
       "      <td>Liversedge</td>\n",
       "      <td>Warrington Town</td>\n",
       "      <td>0 - 4</td>\n",
       "      <td>546</td>\n",
       "    </tr>\n",
       "    <tr>\n",
       "      <th>5</th>\n",
       "      <td>Marine</td>\n",
       "      <td>Whitby Town</td>\n",
       "      <td>2 - 0</td>\n",
       "      <td>1299</td>\n",
       "    </tr>\n",
       "    <tr>\n",
       "      <th>6</th>\n",
       "      <td>Marske United</td>\n",
       "      <td>FC United of Manchester</td>\n",
       "      <td>0 - 2</td>\n",
       "      <td>735</td>\n",
       "    </tr>\n",
       "    <tr>\n",
       "      <th>7</th>\n",
       "      <td>Morpeth Town</td>\n",
       "      <td>Stafford Rangers</td>\n",
       "      <td>2 - 1</td>\n",
       "      <td>407</td>\n",
       "    </tr>\n",
       "    <tr>\n",
       "      <th>8</th>\n",
       "      <td>Warrington Rylands</td>\n",
       "      <td>Matlock Town</td>\n",
       "      <td>1 - 2</td>\n",
       "      <td>NaN</td>\n",
       "    </tr>\n",
       "    <tr>\n",
       "      <th>9</th>\n",
       "      <td>Atherton Collieries</td>\n",
       "      <td>Belper Town</td>\n",
       "      <td>1 - 1</td>\n",
       "      <td>226</td>\n",
       "    </tr>\n",
       "    <tr>\n",
       "      <th>10</th>\n",
       "      <td>FC United of Manchester</td>\n",
       "      <td>Morpeth Town</td>\n",
       "      <td>4 - 2</td>\n",
       "      <td>1354</td>\n",
       "    </tr>\n",
       "    <tr>\n",
       "      <th>11</th>\n",
       "      <td>Lancaster City</td>\n",
       "      <td>Warrington Rylands</td>\n",
       "      <td>2 - 1</td>\n",
       "      <td>224</td>\n",
       "    </tr>\n",
       "    <tr>\n",
       "      <th>12</th>\n",
       "      <td>Matlock Town</td>\n",
       "      <td>Liversedge</td>\n",
       "      <td>1 - 2</td>\n",
       "      <td>527</td>\n",
       "    </tr>\n",
       "    <tr>\n",
       "      <th>13</th>\n",
       "      <td>Nantwich Town</td>\n",
       "      <td>Marine</td>\n",
       "      <td>1 - 2</td>\n",
       "      <td>335</td>\n",
       "    </tr>\n",
       "    <tr>\n",
       "      <th>14</th>\n",
       "      <td>Stalybridge Celtic</td>\n",
       "      <td>Marske United</td>\n",
       "      <td>2 - 3</td>\n",
       "      <td>283</td>\n",
       "    </tr>\n",
       "    <tr>\n",
       "      <th>15</th>\n",
       "      <td>Warrington Town</td>\n",
       "      <td>Gainsborough Trinity</td>\n",
       "      <td>0 - 2</td>\n",
       "      <td>443</td>\n",
       "    </tr>\n",
       "    <tr>\n",
       "      <th>16</th>\n",
       "      <td>Ashton United</td>\n",
       "      <td>Whitby Town</td>\n",
       "      <td>0 - 1</td>\n",
       "      <td>165</td>\n",
       "    </tr>\n",
       "    <tr>\n",
       "      <th>17</th>\n",
       "      <td>FC United of Manchester</td>\n",
       "      <td>South Shields</td>\n",
       "      <td>2 - 1</td>\n",
       "      <td>1295</td>\n",
       "    </tr>\n",
       "    <tr>\n",
       "      <th>18</th>\n",
       "      <td>Morpeth Town</td>\n",
       "      <td>Bamber Bridge</td>\n",
       "      <td>1 - 1</td>\n",
       "      <td>374</td>\n",
       "    </tr>\n",
       "    <tr>\n",
       "      <th>19</th>\n",
       "      <td>Radcliffe</td>\n",
       "      <td>Stalybridge Celtic</td>\n",
       "      <td>2 - 1</td>\n",
       "      <td>427</td>\n",
       "    </tr>\n",
       "    <tr>\n",
       "      <th>20</th>\n",
       "      <td>Warrington Town</td>\n",
       "      <td>Warrington Rylands</td>\n",
       "      <td>3 - 3</td>\n",
       "      <td>1520</td>\n",
       "    </tr>\n",
       "    <tr>\n",
       "      <th>21</th>\n",
       "      <td>Atherton Collieries</td>\n",
       "      <td>Ashton United</td>\n",
       "      <td>2 - 0</td>\n",
       "      <td>321</td>\n",
       "    </tr>\n",
       "    <tr>\n",
       "      <th>22</th>\n",
       "      <td>FC United of Manchester</td>\n",
       "      <td>Marine</td>\n",
       "      <td>1 - 1</td>\n",
       "      <td>1667</td>\n",
       "    </tr>\n",
       "    <tr>\n",
       "      <th>23</th>\n",
       "      <td>Guiseley</td>\n",
       "      <td>Warrington Rylands</td>\n",
       "      <td>1 - 1</td>\n",
       "      <td>572</td>\n",
       "    </tr>\n",
       "    <tr>\n",
       "      <th>24</th>\n",
       "      <td>Lancaster City</td>\n",
       "      <td>Belper Town</td>\n",
       "      <td>1 - 1</td>\n",
       "      <td>291</td>\n",
       "    </tr>\n",
       "    <tr>\n",
       "      <th>25</th>\n",
       "      <td>Matlock Town</td>\n",
       "      <td>Nantwich Town</td>\n",
       "      <td>1 - 1</td>\n",
       "      <td>872</td>\n",
       "    </tr>\n",
       "    <tr>\n",
       "      <th>26</th>\n",
       "      <td>Stafford Rangers</td>\n",
       "      <td>Liversedge</td>\n",
       "      <td>2 - 0</td>\n",
       "      <td>698</td>\n",
       "    </tr>\n",
       "    <tr>\n",
       "      <th>27</th>\n",
       "      <td>Stalybridge Celtic</td>\n",
       "      <td>Morpeth Town</td>\n",
       "      <td>0 - 3</td>\n",
       "      <td>324</td>\n",
       "    </tr>\n",
       "    <tr>\n",
       "      <th>28</th>\n",
       "      <td>Warrington Town</td>\n",
       "      <td>Radcliffe</td>\n",
       "      <td>1 - 0</td>\n",
       "      <td>578</td>\n",
       "    </tr>\n",
       "  </tbody>\n",
       "</table>\n",
       "</div>"
      ],
      "text/plain": [
       "                       home                     away  score attendance\n",
       "0             Ashton United       Stalybridge Celtic  2 - 1        510\n",
       "1             Bamber Bridge            Nantwich Town  1 - 0        423\n",
       "2               Belper Town                 Guiseley  1 - 3        562\n",
       "3      Gainsborough Trinity      Atherton Collieries  2 - 2        586\n",
       "4                Liversedge          Warrington Town  0 - 4        546\n",
       "5                    Marine              Whitby Town  2 - 0       1299\n",
       "6             Marske United  FC United of Manchester  0 - 2        735\n",
       "7              Morpeth Town         Stafford Rangers  2 - 1        407\n",
       "8        Warrington Rylands             Matlock Town  1 - 2        NaN\n",
       "9       Atherton Collieries              Belper Town  1 - 1        226\n",
       "10  FC United of Manchester             Morpeth Town  4 - 2       1354\n",
       "11           Lancaster City       Warrington Rylands  2 - 1        224\n",
       "12             Matlock Town               Liversedge  1 - 2        527\n",
       "13            Nantwich Town                   Marine  1 - 2        335\n",
       "14       Stalybridge Celtic            Marske United  2 - 3        283\n",
       "15          Warrington Town     Gainsborough Trinity  0 - 2        443\n",
       "16            Ashton United              Whitby Town  0 - 1        165\n",
       "17  FC United of Manchester            South Shields  2 - 1       1295\n",
       "18             Morpeth Town            Bamber Bridge  1 - 1        374\n",
       "19                Radcliffe       Stalybridge Celtic  2 - 1        427\n",
       "20          Warrington Town       Warrington Rylands  3 - 3       1520\n",
       "21      Atherton Collieries            Ashton United  2 - 0        321\n",
       "22  FC United of Manchester                   Marine  1 - 1       1667\n",
       "23                 Guiseley       Warrington Rylands  1 - 1        572\n",
       "24           Lancaster City              Belper Town  1 - 1        291\n",
       "25             Matlock Town            Nantwich Town  1 - 1        872\n",
       "26         Stafford Rangers               Liversedge  2 - 0        698\n",
       "27       Stalybridge Celtic             Morpeth Town  0 - 3        324\n",
       "28          Warrington Town                Radcliffe  1 - 0        578"
      ]
     },
     "execution_count": 138,
     "metadata": {},
     "output_type": "execute_result"
    }
   ],
   "source": [
    "final_df"
   ]
  },
  {
   "cell_type": "code",
   "execution_count": null,
   "id": "4a96a971-0b0c-4542-8bb4-4b037483e451",
   "metadata": {},
   "outputs": [],
   "source": []
  }
 ],
 "metadata": {
  "kernelspec": {
   "display_name": "Python 3 (ipykernel)",
   "language": "python",
   "name": "python3"
  },
  "language_info": {
   "codemirror_mode": {
    "name": "ipython",
    "version": 3
   },
   "file_extension": ".py",
   "mimetype": "text/x-python",
   "name": "python",
   "nbconvert_exporter": "python",
   "pygments_lexer": "ipython3",
   "version": "3.9.13"
  }
 },
 "nbformat": 4,
 "nbformat_minor": 5
}
